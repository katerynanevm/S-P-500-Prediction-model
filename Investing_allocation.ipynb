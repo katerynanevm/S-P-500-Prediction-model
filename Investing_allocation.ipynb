{
  "nbformat": 4,
  "nbformat_minor": 0,
  "metadata": {
    "colab": {
      "provenance": [],
      "authorship_tag": "ABX9TyPeAOcz9ShBPMycMGANhpWX",
      "include_colab_link": true
    },
    "kernelspec": {
      "name": "python3",
      "display_name": "Python 3"
    },
    "language_info": {
      "name": "python"
    }
  },
  "cells": [
    {
      "cell_type": "markdown",
      "metadata": {
        "id": "view-in-github",
        "colab_type": "text"
      },
      "source": [
        "<a href=\"https://colab.research.google.com/github/katerynanevm/S-P-500-Prediction-model/blob/main/Investing_allocation.ipynb\" target=\"_parent\"><img src=\"https://colab.research.google.com/assets/colab-badge.svg\" alt=\"Open In Colab\"/></a>"
      ]
    },
    {
      "cell_type": "code",
      "execution_count": 1,
      "metadata": {
        "id": "EsP6YryrHZbt"
      },
      "outputs": [],
      "source": [
        "\n",
        "import numpy as np\n",
        "import pandas as pd\n",
        "from sklearn.preprocessing import MinMaxScaler\n",
        "from scipy.optimize import minimize"
      ]
    },
    {
      "cell_type": "code",
      "source": [
        "data = {\n",
        "    \"Company\": [\"Puma\", \"NVIDIA\", \"D6H\", \"Alibaba\"],\n",
        "    \"Expected_1y_target\": [65.15, 19.94, 80.0, 35.86],\n",
        "    \"Uncertainty\": [\"Low\", \"Med\", \"Low\", \"Med\"],\n",
        "    \"Undervalued\": [71.4, -13.5, 46.0, 59.9],\n",
        "    \"Warnings\": [0.5714285714, 0.3333333333, 0.2, 0],\n",
        "    \"Financial_health\": [2, 4, 3, 3]\n",
        "}\n",
        "\n",
        "df = pd.DataFrame(data)"
      ],
      "metadata": {
        "id": "k2HDmdAtH2jx"
      },
      "execution_count": 31,
      "outputs": []
    },
    {
      "cell_type": "code",
      "source": [
        "# Categorical variables encoding\n",
        "df['Uncertainty'] = df['Uncertainty'].map({\"Low\": 1, \"Med\": 2, \"High\": 3})"
      ],
      "metadata": {
        "id": "Ec0IFID5H86m"
      },
      "execution_count": 32,
      "outputs": []
    },
    {
      "cell_type": "code",
      "source": [
        "# Data normalizing for scaling\n",
        "scaler = MinMaxScaler()\n",
        "normalized_data = scaler.fit_transform(df[[\"Expected_1y_target\", \"Undervalued\", \"Warnings\", \"Financial_health\", \"Uncertainty\"]])\n",
        "df_normalized = pd.DataFrame(normalized_data, columns=[\"Expected_1y_target\", \"Undervalued\", \"Warnings\", \"Financial_health\", \"Uncertainty\"])"
      ],
      "metadata": {
        "id": "MpXkcTyOH-Vc"
      },
      "execution_count": 33,
      "outputs": []
    },
    {
      "cell_type": "code",
      "source": [
        "# Creation of the function, where we set the formula that we use to decide how to divide money between stocks.\n",
        "# It tries to maximize good things (like returns and undervaluation) and minimize bad things (like uncertainty and warnings).\n",
        "# It also adds a penalty if we put too much money into just one stock, to make sure the money is spread out more evenly.\n",
        "\n",
        "def objective(weights):\n",
        "    weights = np.array(weights)\n",
        "\n",
        "    # Importance weights\n",
        "    expected_target_weight = 5\n",
        "    undervalued_weight = 4\n",
        "    warnings_weight = 3\n",
        "    financial_health_weight = 3\n",
        "    uncertainty_weight = 2\n",
        "\n",
        "    # Calculate contributions\n",
        "    returns = weights.dot(df_normalized[\"Expected_1y_target\"]) * expected_target_weight\n",
        "    undervaluation = weights.dot(df_normalized[\"Undervalued\"]) * undervalued_weight\n",
        "    warnings = weights.dot(df_normalized[\"Warnings\"]) * warnings_weight\n",
        "    financial_health = weights.dot(df_normalized[\"Financial_health\"]) * financial_health_weight\n",
        "    uncertainty = weights.dot(df_normalized[\"Uncertainty\"]) * uncertainty_weight\n",
        "\n",
        "    # Diversification penalty: Discourage concentration in a single stock\n",
        "    diversification_penalty = np.sum(weights**2)  # Squaring makes large weights more penalized\n",
        "\n",
        "    # Objective: Maximize returns and undervaluation, minimize warnings, uncertainty, and concentration\n",
        "    return -(returns + undervaluation - warnings - uncertainty + financial_health) + 0.1 * diversification_penalty\n"
      ],
      "metadata": {
        "id": "h2b6iFhSIERr"
      },
      "execution_count": 34,
      "outputs": []
    },
    {
      "cell_type": "code",
      "source": [
        "# Constraints: Weights sum to 1\n",
        "constraints = ({'type': 'eq', 'fun': lambda x: np.sum(x) - 1})\n",
        "\n",
        "# Add additional bounds for diversification. # At least 15%, at most 50% for each stock\n",
        "bounds = [(0.15, 0.5) for _ in range(len(df))]\n",
        "\n",
        "# Initial weights\n",
        "initial_weights = [1/len(df)] * len(df)\n",
        "\n",
        "# Optimize\n",
        "result = minimize(objective, initial_weights, bounds=bounds, constraints=constraints)\n",
        "\n",
        "# Get the optimal weights\n",
        "optimal_weights = result.x\n",
        "df['Investment'] = optimal_weights * 1000  # Allocate $1000 based on weights"
      ],
      "metadata": {
        "id": "Tvaid6vpK4k-"
      },
      "execution_count": 37,
      "outputs": []
    },
    {
      "cell_type": "code",
      "source": [
        "print(\"You should invest in each stock as follows:\")\n",
        "for company, investment in zip(df[\"Company\"], df[\"Investment\"]):\n",
        "    print(f\"{company}: ${investment:.2f}\")"
      ],
      "metadata": {
        "colab": {
          "base_uri": "https://localhost:8080/"
        },
        "id": "HY1fwh5hIz9h",
        "outputId": "17d6767a-e58f-4a5e-b13f-e13e07fd9536"
      },
      "execution_count": 38,
      "outputs": [
        {
          "output_type": "stream",
          "name": "stdout",
          "text": [
            "You should invest in each stock as follows:\n",
            "Puma: $200.00\n",
            "NVIDIA: $150.00\n",
            "D6H: $500.00\n",
            "Alibaba: $150.00\n"
          ]
        }
      ]
    },
    {
      "cell_type": "code",
      "source": [],
      "metadata": {
        "id": "Y0bxrrspJWSN"
      },
      "execution_count": null,
      "outputs": []
    }
  ]
}